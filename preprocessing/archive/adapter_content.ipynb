{
 "cells": [
  {
   "cell_type": "code",
   "execution_count": 1,
   "metadata": {},
   "outputs": [],
   "source": [
    "import os\n",
    "import pandas as pd\n",
    "import numpy as np"
   ]
  },
  {
   "cell_type": "markdown",
   "metadata": {},
   "source": [
    "# List the folders inside `preprocessing` "
   ]
  },
  {
   "cell_type": "code",
   "execution_count": 77,
   "metadata": {},
   "outputs": [
    {
     "data": {
      "text/plain": [
       "['211109_A01083_0095_BHNGMCDSXY',\n",
       " '211209_A01083_0102_BHGWFNDSX2',\n",
       " '220422_A01083_0130_AHNW7HDSX2',\n",
       " '220504_A01083_0133_BHVW3TDSX2',\n",
       " '220606_A01083_0137_AH2HYGDSX3',\n",
       " '220629_A01083_0139_AHYHKFDSX2',\n",
       " '220708_A01083_0142_AHCF75DSX3',\n",
       " '220728_A01083_0147_AHCC5YDSX3',\n",
       " '220819_A01083_0150_BHNWNGDSX3',\n",
       " '220830_IEO_PLIC',\n",
       " '220902_A01083_0155_AHHFNCDSX3',\n",
       " 'GopalakrishnanV_2018',\n",
       " 'IIGM_VC2',\n",
       " 'PREDICT2_Zymo',\n",
       " 'PREDICT2_Zymo__2',\n",
       " 'run21_pool3',\n",
       " 'run21_retrieve_reads',\n",
       " 'run24_pool1']"
      ]
     },
     "execution_count": 77,
     "metadata": {},
     "output_type": "execute_result"
    }
   ],
   "source": [
    "sorted([d for d in os.listdir() if os.path.isdir(d) and not d.startswith('.') and not d.startswith('test_') and not d.startswith('old')])"
   ]
  },
  {
   "cell_type": "code",
   "execution_count": 3,
   "metadata": {},
   "outputs": [],
   "source": [
    "samples_to_skip = set(['.ipynb_checkpoints', '.empty', 'Stats', 'Reports'])"
   ]
  },
  {
   "cell_type": "code",
   "execution_count": 104,
   "metadata": {},
   "outputs": [],
   "source": [
    "# folder = '200313_A01083_0011_BH25HGDSXY'  # 5th run\n",
    "# folder = '200327_A01083_0013_BH2752DSXY'  # 6th run\n",
    "# folder = 'test_mismatch'                  # 6th run test \"--mismatch 1\"\n",
    "# folder = '200409_A00302_0146_BHYGTCDSXX'  # 7th run\n",
    "# folder = '200514_A01083_0014_AH2757DSXY'  # 8th run\n",
    "# folder = '200522_A01083_0015_BH25WYDSXY'  # 9th run\n",
    "# folder = '200616_A01083_0017_BHFLMWDSXY'  # 10th run\n",
    "# folder = '200713_A01083_0019_AHFLW2DSXY'  # 11th run\n",
    "# folder = 'PREDICT2_Zymo'\n",
    "# folder = '200729_A01083_0027_BHFKJCDSXY'  # 12th run\n",
    "# folder = 'PREDICT2_Zymo__2'\n",
    "# folder = '200917_A01083_0034_AHYNCGDSXX'  # 13th run\n",
    "# folder = '201103_A01083_0039_AHYNF2DSXX'  # 14th run\n",
    "# folder = '201230_A01083_0046_BHFFTVDSXY'  # 15th run\n",
    "# folder = '210121_A01083_0048_AHGVLMDSXY'  # 16th run / COVID UK Tim Spector\n",
    "# folder = '210211_A01083_0052_AHVFKCDSXY'  # 17th run\n",
    "# folder = '210226_A01083_0055_AHVCT5DSXY'  # 18th run\n",
    "# folder = '210319_A01083_0057_BHN2CCDSXY'  # 19th run\n",
    "# folder = '210510_A01083_0065_AHFC7NDSXY'  # 20th run\n",
    "# folder = '210611_A01083_0066_BHN3GKDSXY'  # 21st run\n",
    "# folder = '210723_A01083_0072_AHN3C5DSXY'  # 22nd run\n",
    "# folder = '210902_A01083_0080_BHMV7MDSXY'  # 23rd run\n",
    "# folder = '211029_A01083_0091_AHFJJTDSX2'  # 24th run\n",
    "# folder = '211109_A01083_0095_BHNGMCDSXY'  # 25th run\n",
    "# folder = '211209_A01083_0102_BHGWFNDSX2'  # 26th run\n",
    "# folder = '220125_A01083_0115_AHTYJ7DSX2'  # 27th run\n",
    "# folder = '220225_A01083_0119_AHGLGKDSXY'  # 28th run\n",
    "# folder = '220325_A01083_0126_BHYN7NDSXY'  # 29th run\n",
    "# folder = '/shares/CIBIO-Storage/CM/scratch/users/f.asnicar/ONCO_DUCTH_SWEDEN/reads/'  # ONCO_DUTCH_SWEDEN / Fredrik Boulund\n",
    "# folder = '220422_A01083_0130_AHNW7HDSX2'  # SARDEGNA 1st run aprile 2022\n",
    "# folder = '220504_A01083_0133_BHVW3TDSX2'  # 30th run\n",
    "# folder = '220606_A01083_0137_AH2HYGDSX3'  # 31st run\n",
    "# folder = '220629_A01083_0139_AHYHKFDSX2'  # 32nd run\n",
    "# folder = '220708_A01083_0142_AHCF75DSX3'  # 33rd run\n",
    "# folder = '220726_A01083_0146_BHCFHLDSX3'  # 34th run / 408 PLIC samples with split\n",
    "# folder = '220728_A01083_0147_AHCC5YDSX3'  # SARDEGNA 2nd run luglio 2022\n",
    "# folder = '220819_A01083_0150_BHNWNGDSX3'  # SARDEGNA 3rd run agosto 2022\n",
    "# folder = '220902_A01083_0155_AHHFNCDSX3'  # 35th run / 4xx PLIC samples with split\n",
    "# folder = '220830_IEO_PLIC_demux'  # IEO_PLIC\n",
    "folder = '220921_A01083_0165_BHNMLCDSX3'  # 36th run"
   ]
  },
  {
   "cell_type": "markdown",
   "metadata": {},
   "source": [
    "# Adapters contamination"
   ]
  },
  {
   "cell_type": "code",
   "execution_count": null,
   "metadata": {},
   "outputs": [],
   "source": [
    "adapters = {}\n",
    "\n",
    "for sample in os.listdir(folder):\n",
    "    folder_sample = os.path.join(folder, sample)\n",
    "\n",
    "    if (sample in samples_to_skip) or (not os.path.isdir(folder_sample)):\n",
    "        continue\n",
    "\n",
    "    adapters[sample] = 0.0\n",
    "    n = 0\n",
    "\n",
    "    for lane in os.listdir(os.path.join(folder_sample, 'fastqc_raw')):\n",
    "        folder_sample_lane = os.path.join(folder_sample, 'fastqc_raw', lane)\n",
    "\n",
    "        if not os.path.isdir(folder_sample_lane):\n",
    "            continue\n",
    "\n",
    "        save = False\n",
    "        tmp_list = []\n",
    "\n",
    "        with open(os.path.join(folder_sample_lane, 'fastqc_data.txt')) as f:\n",
    "            for r in f:\n",
    "                if r.startswith('>>Adapter Content'):\n",
    "                    save = True\n",
    "\n",
    "                if save and r.startswith('>>END_MODULE'):\n",
    "                    save = False\n",
    "                    break\n",
    "\n",
    "                if save:\n",
    "                    tmp_list.append(r.strip().split('\\t'))\n",
    "\n",
    "        adapters[sample] += sum(map(float, tmp_list[-1][1:]))\n",
    "        n += 1\n",
    "\n",
    "    adapters[sample] /= n"
   ]
  },
  {
   "cell_type": "code",
   "execution_count": null,
   "metadata": {},
   "outputs": [],
   "source": [
    "len(adapters)"
   ]
  },
  {
   "cell_type": "markdown",
   "metadata": {},
   "source": [
    "* 10 samples with **highest** % of adapters"
   ]
  },
  {
   "cell_type": "code",
   "execution_count": null,
   "metadata": {},
   "outputs": [],
   "source": [
    "sorted(adapters.items(), key=lambda x: x[1], reverse=True)[:10]"
   ]
  },
  {
   "cell_type": "markdown",
   "metadata": {},
   "source": [
    "* 10 samples with **lowest** % of adapters"
   ]
  },
  {
   "cell_type": "code",
   "execution_count": null,
   "metadata": {},
   "outputs": [],
   "source": [
    "sorted(adapters.items(), key=lambda x: x[1], reverse=True)[-10:]"
   ]
  },
  {
   "cell_type": "markdown",
   "metadata": {},
   "source": [
    "# Number of reads"
   ]
  },
  {
   "cell_type": "code",
   "execution_count": 99,
   "metadata": {},
   "outputs": [],
   "source": [
    "nreads = {}\n",
    "\n",
    "for sample in os.listdir(folder):\n",
    "    folder_sample = os.path.join(folder, sample)\n",
    "\n",
    "    if (sample in samples_to_skip) or (not os.path.isdir(folder_sample)):\n",
    "        continue\n",
    "\n",
    "    nreads[sample] = 0\n",
    "\n",
    "    for lane in os.listdir(os.path.join(folder_sample, 'fastqc_raw')):\n",
    "        folder_sample_lane = os.path.join(folder_sample, 'fastqc_raw', lane)\n",
    "        \n",
    "        if not os.path.isdir(folder_sample_lane):\n",
    "            continue\n",
    "        \n",
    "        with open(os.path.join(folder_sample_lane, 'fastqc_data.txt')) as f:\n",
    "            for r in f:\n",
    "                if r.startswith('Total Sequences'):\n",
    "                    nreads[sample] += int(r.strip().split('\\t')[1])\n",
    "                    break"
   ]
  },
  {
   "cell_type": "code",
   "execution_count": 100,
   "metadata": {},
   "outputs": [
    {
     "data": {
      "text/plain": [
       "382"
      ]
     },
     "execution_count": 100,
     "metadata": {},
     "output_type": "execute_result"
    }
   ],
   "source": [
    "len(nreads)"
   ]
  },
  {
   "cell_type": "markdown",
   "metadata": {},
   "source": [
    "* 10 samples with **largest** number of reads"
   ]
  },
  {
   "cell_type": "code",
   "execution_count": 101,
   "metadata": {},
   "outputs": [
    {
     "data": {
      "text/plain": [
       "[('PLIC_SHO_LN_117', 96682220),\n",
       " ('PLIC_SHO_LN_113', 92504196),\n",
       " ('PLIC_SHO_NS_28', 92036548),\n",
       " ('PLIC_SHO_LN_228', 91515004),\n",
       " ('PLIC_SHO_NS_67', 91111796),\n",
       " ('PLIC_SHO_LN_160', 85902184),\n",
       " ('PLIC_SHO_NS_26', 84851092),\n",
       " ('PLIC_SHO_NS_93', 84254958),\n",
       " ('PLIC_SHO_LN_140', 82336538),\n",
       " ('PLIC_SHO_LN_118', 82105732)]"
      ]
     },
     "execution_count": 101,
     "metadata": {},
     "output_type": "execute_result"
    }
   ],
   "source": [
    "sorted(nreads.items(), key=lambda x: x[1], reverse=True)[:10]"
   ]
  },
  {
   "cell_type": "markdown",
   "metadata": {},
   "source": [
    "* 10 samples with **lowest** number of reads"
   ]
  },
  {
   "cell_type": "code",
   "execution_count": 102,
   "metadata": {},
   "outputs": [
    {
     "data": {
      "text/plain": [
       "[('PLIC_SHO_LN_269', 9697038),\n",
       " ('PLIC_SHO_LN_273', 9366722),\n",
       " ('PLIC_SHO_LN_280', 9281630),\n",
       " ('PLIC_SHO_LN_271', 8996328),\n",
       " ('PLIC_SHO_LN_284', 8810970),\n",
       " ('PLIC_SHO_LN_270', 8622660),\n",
       " ('PLIC_SHO_LN_282', 8601930),\n",
       " ('PLIC_SHO_LN_289', 8268534),\n",
       " ('PLIC_SHO_LN_293', 6074736),\n",
       " ('PLIC_SHO_LN_272', 5321182)]"
      ]
     },
     "execution_count": 102,
     "metadata": {},
     "output_type": "execute_result"
    }
   ],
   "source": [
    "sorted(nreads.items(), key=lambda x: x[1], reverse=True)[-10:]"
   ]
  },
  {
   "cell_type": "markdown",
   "metadata": {},
   "source": [
    "## Save `_adapters_nreads.tsv`"
   ]
  },
  {
   "cell_type": "code",
   "execution_count": 103,
   "metadata": {},
   "outputs": [
    {
     "name": "stdout",
     "output_type": "stream",
     "text": [
      "writing 220830_IEO_PLIC_demux_adapters_nreads.tsv\n"
     ]
    }
   ],
   "source": [
    "if not len(set(adapters.keys()) - set(nreads.keys())):\n",
    "    print('writing {}_adapters_nreads.tsv'.format(folder))\n",
    "    \n",
    "    with open('{}_adapters_nreads.tsv'.format(folder), 'w') as f:\n",
    "        f.write('#sample\\tadapters%\\tnreads\\n')\n",
    "        f.write('\\n'.join(['{}\\t{}\\t{}'.format(sample, adapters[sample], nreads[sample]) for sample in nreads.keys()]) + '\\n')\n",
    "else:\n",
    "    print('ERROR: adapters and nreads keys not identical!')"
   ]
  },
  {
   "cell_type": "markdown",
   "metadata": {},
   "source": [
    "---\n",
    "\n",
    "# Analysis for Zoe to evaluate the quality of the sequencing by Zymo"
   ]
  },
  {
   "cell_type": "markdown",
   "metadata": {},
   "source": [
    "## Number of reads (raw) with Q>=30"
   ]
  },
  {
   "cell_type": "code",
   "execution_count": 12,
   "metadata": {},
   "outputs": [],
   "source": [
    "qscore_raw = {}\n",
    "allreads_raw = {}\n",
    "\n",
    "for sample in os.listdir(folder):\n",
    "    if not sample.startswith(\"15\"):\n",
    "        continue\n",
    "\n",
    "    folder_sample = os.path.join(folder, sample)\n",
    "    \n",
    "    if (not os.path.isdir(folder_sample)) or (sample in ['.ipynb_checkpoints', '.empty', 'Stats', 'Reports']):\n",
    "        continue\n",
    "\n",
    "    qscore_raw[sample] = 0\n",
    "    allreads_raw[sample] = 0\n",
    "    \n",
    "    for lane in os.listdir(os.path.join(folder_sample, 'fastqc_raw')):\n",
    "        folder_sample_lane = os.path.join(folder_sample, 'fastqc_raw', lane)\n",
    "        save = False\n",
    "\n",
    "        if not os.path.isdir(folder_sample_lane):\n",
    "            continue\n",
    "\n",
    "        with open(os.path.join(folder_sample_lane, 'fastqc_data.txt')) as f:\n",
    "            for r in f:\n",
    "                if r.startswith('#'):\n",
    "                    continue\n",
    "\n",
    "                if r.startswith('>>Per sequence quality scores'):\n",
    "                    save = True\n",
    "                    continue\n",
    "                    \n",
    "                if save and r.startswith('>>END_MODULE'):\n",
    "                    save = False\n",
    "                    break\n",
    "                    \n",
    "                if save:\n",
    "                    q = int(r.strip().split('\\t')[0])\n",
    "                    allreads_raw[sample] += int(float(r.strip().split('\\t')[1]))\n",
    "                    \n",
    "                    if q >= 30:\n",
    "                        qscore_raw[sample] += int(float(r.strip().split('\\t')[1]))"
   ]
  },
  {
   "cell_type": "markdown",
   "metadata": {},
   "source": [
    "## Number of reads (clean) with Q>=30"
   ]
  },
  {
   "cell_type": "code",
   "execution_count": 13,
   "metadata": {},
   "outputs": [],
   "source": [
    "qscore_clean = {}\n",
    "allreads_clean = {}\n",
    "\n",
    "for sample in os.listdir(folder):\n",
    "    if not sample.startswith(\"15\"):\n",
    "        continue\n",
    "\n",
    "    folder_sample = os.path.join(folder, sample)\n",
    "    \n",
    "    if (not os.path.isdir(folder_sample)) or (sample in ['.ipynb_checkpoints', '.empty', 'Stats', 'Reports']):\n",
    "        continue\n",
    "\n",
    "    qscore_clean[sample] = 0\n",
    "    allreads_clean[sample] = 0\n",
    "    \n",
    "    for lane in os.listdir(os.path.join(folder_sample, 'fastqc_clean')):\n",
    "        folder_sample_lane = os.path.join(folder_sample, 'fastqc_clean', lane)\n",
    "        save = False\n",
    "\n",
    "        if not os.path.isdir(folder_sample_lane):\n",
    "            continue\n",
    "\n",
    "        with open(os.path.join(folder_sample_lane, 'fastqc_data.txt')) as f:\n",
    "            for r in f:\n",
    "                if r.startswith('#'):\n",
    "                    continue\n",
    "\n",
    "                if r.startswith('>>Per sequence quality scores'):\n",
    "                    save = True\n",
    "                    continue\n",
    "                    \n",
    "                if save and r.startswith('>>END_MODULE'):\n",
    "                    save = False\n",
    "                    break\n",
    "                    \n",
    "                if save:\n",
    "                    q = int(r.strip().split('\\t')[0])\n",
    "                    allreads_clean[sample] += int(float(r.strip().split('\\t')[1]))\n",
    "                    \n",
    "                    if q >= 30:\n",
    "                        qscore_clean[sample] += int(float(r.strip().split('\\t')[1]))"
   ]
  },
  {
   "cell_type": "code",
   "execution_count": 18,
   "metadata": {},
   "outputs": [
    {
     "data": {
      "text/html": [
       "<div>\n",
       "<style scoped>\n",
       "    .dataframe tbody tr th:only-of-type {\n",
       "        vertical-align: middle;\n",
       "    }\n",
       "\n",
       "    .dataframe tbody tr th {\n",
       "        vertical-align: top;\n",
       "    }\n",
       "\n",
       "    .dataframe thead th {\n",
       "        text-align: right;\n",
       "    }\n",
       "</style>\n",
       "<table border=\"1\" class=\"dataframe\">\n",
       "  <thead>\n",
       "    <tr style=\"text-align: right;\">\n",
       "      <th></th>\n",
       "      <th>sample</th>\n",
       "      <th>Gbp raw</th>\n",
       "      <th>Gbp raw (Q&gt;=30)</th>\n",
       "      <th>Gbp clean</th>\n",
       "      <th>Gbp clean (Q&gt;=30)</th>\n",
       "      <th>Gbp diff</th>\n",
       "      <th>Gbp diff (Q&gt;=30)</th>\n",
       "      <th>reads raw</th>\n",
       "      <th>reads raw (Q&gt;=30)</th>\n",
       "      <th>reads clean</th>\n",
       "      <th>reads clean (Q&gt;=30)</th>\n",
       "      <th>reads diff</th>\n",
       "      <th>reads diff (Q&gt;=30)</th>\n",
       "      <th>raw (Q&gt;=30)</th>\n",
       "      <th>clean (Q&gt;=30)</th>\n",
       "    </tr>\n",
       "  </thead>\n",
       "  <tbody>\n",
       "    <tr>\n",
       "      <th>0</th>\n",
       "      <td>15937</td>\n",
       "      <td>5.820289</td>\n",
       "      <td>5.711621</td>\n",
       "      <td>5.788405</td>\n",
       "      <td>5.684299</td>\n",
       "      <td>0.031884</td>\n",
       "      <td>0.027321</td>\n",
       "      <td>38801928</td>\n",
       "      <td>38077471</td>\n",
       "      <td>38589369</td>\n",
       "      <td>37895328</td>\n",
       "      <td>212559</td>\n",
       "      <td>182143</td>\n",
       "      <td>True</td>\n",
       "      <td>True</td>\n",
       "    </tr>\n",
       "    <tr>\n",
       "      <th>1</th>\n",
       "      <td>15698</td>\n",
       "      <td>3.499858</td>\n",
       "      <td>3.416186</td>\n",
       "      <td>3.487805</td>\n",
       "      <td>3.406866</td>\n",
       "      <td>0.012052</td>\n",
       "      <td>0.009320</td>\n",
       "      <td>23332384</td>\n",
       "      <td>22774570</td>\n",
       "      <td>23252036</td>\n",
       "      <td>22712438</td>\n",
       "      <td>80348</td>\n",
       "      <td>62132</td>\n",
       "      <td>True</td>\n",
       "      <td>True</td>\n",
       "    </tr>\n",
       "    <tr>\n",
       "      <th>2</th>\n",
       "      <td>15757</td>\n",
       "      <td>4.139379</td>\n",
       "      <td>4.042826</td>\n",
       "      <td>4.124064</td>\n",
       "      <td>4.030694</td>\n",
       "      <td>0.015315</td>\n",
       "      <td>0.012132</td>\n",
       "      <td>27595858</td>\n",
       "      <td>26952173</td>\n",
       "      <td>27493760</td>\n",
       "      <td>26871292</td>\n",
       "      <td>102098</td>\n",
       "      <td>80881</td>\n",
       "      <td>True</td>\n",
       "      <td>True</td>\n",
       "    </tr>\n",
       "    <tr>\n",
       "      <th>3</th>\n",
       "      <td>15829</td>\n",
       "      <td>4.356426</td>\n",
       "      <td>4.268894</td>\n",
       "      <td>4.346661</td>\n",
       "      <td>4.262238</td>\n",
       "      <td>0.009765</td>\n",
       "      <td>0.006656</td>\n",
       "      <td>29042842</td>\n",
       "      <td>28459291</td>\n",
       "      <td>28977740</td>\n",
       "      <td>28414919</td>\n",
       "      <td>65102</td>\n",
       "      <td>44372</td>\n",
       "      <td>True</td>\n",
       "      <td>True</td>\n",
       "    </tr>\n",
       "    <tr>\n",
       "      <th>4</th>\n",
       "      <td>15843</td>\n",
       "      <td>11.099473</td>\n",
       "      <td>10.840722</td>\n",
       "      <td>11.057881</td>\n",
       "      <td>10.807932</td>\n",
       "      <td>0.041592</td>\n",
       "      <td>0.032790</td>\n",
       "      <td>73996486</td>\n",
       "      <td>72271478</td>\n",
       "      <td>73719206</td>\n",
       "      <td>72052877</td>\n",
       "      <td>277280</td>\n",
       "      <td>218601</td>\n",
       "      <td>True</td>\n",
       "      <td>True</td>\n",
       "    </tr>\n",
       "  </tbody>\n",
       "</table>\n",
       "</div>"
      ],
      "text/plain": [
       "  sample    Gbp raw  Gbp raw (Q>=30)  Gbp clean  Gbp clean (Q>=30)  Gbp diff  \\\n",
       "0  15937   5.820289         5.711621   5.788405           5.684299  0.031884   \n",
       "1  15698   3.499858         3.416186   3.487805           3.406866  0.012052   \n",
       "2  15757   4.139379         4.042826   4.124064           4.030694  0.015315   \n",
       "3  15829   4.356426         4.268894   4.346661           4.262238  0.009765   \n",
       "4  15843  11.099473        10.840722  11.057881          10.807932  0.041592   \n",
       "\n",
       "   Gbp diff (Q>=30)  reads raw  reads raw (Q>=30)  reads clean  \\\n",
       "0          0.027321   38801928           38077471     38589369   \n",
       "1          0.009320   23332384           22774570     23252036   \n",
       "2          0.012132   27595858           26952173     27493760   \n",
       "3          0.006656   29042842           28459291     28977740   \n",
       "4          0.032790   73996486           72271478     73719206   \n",
       "\n",
       "   reads clean (Q>=30)  reads diff  reads diff (Q>=30)  raw (Q>=30)  \\\n",
       "0             37895328      212559              182143         True   \n",
       "1             22712438       80348               62132         True   \n",
       "2             26871292      102098               80881         True   \n",
       "3             28414919       65102               44372         True   \n",
       "4             72052877      277280              218601         True   \n",
       "\n",
       "   clean (Q>=30)  \n",
       "0           True  \n",
       "1           True  \n",
       "2           True  \n",
       "3           True  \n",
       "4           True  "
      ]
     },
     "execution_count": 18,
     "metadata": {},
     "output_type": "execute_result"
    }
   ],
   "source": [
    "qscore = {'sample': [], \n",
    "          'Gbp raw': [], \n",
    "          'Gbp raw (Q>=30)': [], \n",
    "          'Gbp clean': [], \n",
    "          'Gbp clean (Q>=30)': [], \n",
    "          'Gbp diff': [], \n",
    "          'Gbp diff (Q>=30)': [], \n",
    "          'reads raw': [], \n",
    "          'reads raw (Q>=30)': [], \n",
    "          'reads clean': [], \n",
    "          'reads clean (Q>=30)': [], \n",
    "          'reads diff': [], \n",
    "          'reads diff (Q>=30)': [], \n",
    "          'raw (Q>=30)': [], \n",
    "          'clean (Q>=30)': []}\n",
    "\n",
    "for s, q in qscore_clean.items():\n",
    "    qscore['sample'].append(s)\n",
    "\n",
    "    qscore['Gbp raw'].append((allreads_raw[s] * 150) / 1e9)\n",
    "    qscore['Gbp clean'].append((allreads_clean[s] * 150) / 1e9)\n",
    "    qscore['Gbp diff'].append(((allreads_raw[s] * 150) - (allreads_clean[s] * 150)) / 1e9)\n",
    "\n",
    "    qscore['Gbp raw (Q>=30)'].append((qscore_raw[s] * 150) / 1e9)\n",
    "    qscore['Gbp clean (Q>=30)'].append((q * 150) / 1e9)\n",
    "    qscore['Gbp diff (Q>=30)'].append(((qscore_raw[s] * 150) - (q * 150)) / 1e9)\n",
    "\n",
    "    qscore['reads raw'].append(allreads_raw[s])\n",
    "    qscore['reads clean'].append(allreads_clean[s])\n",
    "    qscore['reads diff'].append(allreads_raw[s] - allreads_clean[s])\n",
    "\n",
    "    qscore['reads raw (Q>=30)'].append(qscore_raw[s])\n",
    "    qscore['reads clean (Q>=30)'].append(q)\n",
    "    qscore['reads diff (Q>=30)'].append(qscore_raw[s] - q)\n",
    "\n",
    "    qscore['raw (Q>=30)'].append(qscore_raw[s] > 16333333)\n",
    "    qscore['clean (Q>=30)'].append(q > 16333333)\n",
    "\n",
    "qscore = pd.DataFrame.from_dict(qscore)\n",
    "qscore.head()"
   ]
  },
  {
   "cell_type": "code",
   "execution_count": 19,
   "metadata": {},
   "outputs": [
    {
     "data": {
      "text/html": [
       "<div>\n",
       "<style scoped>\n",
       "    .dataframe tbody tr th:only-of-type {\n",
       "        vertical-align: middle;\n",
       "    }\n",
       "\n",
       "    .dataframe tbody tr th {\n",
       "        vertical-align: top;\n",
       "    }\n",
       "\n",
       "    .dataframe thead th {\n",
       "        text-align: right;\n",
       "    }\n",
       "</style>\n",
       "<table border=\"1\" class=\"dataframe\">\n",
       "  <thead>\n",
       "    <tr style=\"text-align: right;\">\n",
       "      <th></th>\n",
       "      <th>Gbp raw</th>\n",
       "      <th>Gbp raw (Q&gt;=30)</th>\n",
       "      <th>Gbp clean</th>\n",
       "      <th>Gbp clean (Q&gt;=30)</th>\n",
       "      <th>Gbp diff</th>\n",
       "      <th>Gbp diff (Q&gt;=30)</th>\n",
       "      <th>reads raw</th>\n",
       "      <th>reads raw (Q&gt;=30)</th>\n",
       "      <th>reads clean</th>\n",
       "      <th>reads clean (Q&gt;=30)</th>\n",
       "      <th>reads diff</th>\n",
       "      <th>reads diff (Q&gt;=30)</th>\n",
       "    </tr>\n",
       "  </thead>\n",
       "  <tbody>\n",
       "    <tr>\n",
       "      <th>count</th>\n",
       "      <td>310.000000</td>\n",
       "      <td>310.000000</td>\n",
       "      <td>310.000000</td>\n",
       "      <td>310.000000</td>\n",
       "      <td>310.000000</td>\n",
       "      <td>310.000000</td>\n",
       "      <td>3.100000e+02</td>\n",
       "      <td>3.100000e+02</td>\n",
       "      <td>3.100000e+02</td>\n",
       "      <td>3.100000e+02</td>\n",
       "      <td>3.100000e+02</td>\n",
       "      <td>3.100000e+02</td>\n",
       "    </tr>\n",
       "    <tr>\n",
       "      <th>mean</th>\n",
       "      <td>8.935281</td>\n",
       "      <td>8.718980</td>\n",
       "      <td>8.880085</td>\n",
       "      <td>8.671721</td>\n",
       "      <td>0.055196</td>\n",
       "      <td>0.047259</td>\n",
       "      <td>5.956854e+07</td>\n",
       "      <td>5.812654e+07</td>\n",
       "      <td>5.920057e+07</td>\n",
       "      <td>5.781148e+07</td>\n",
       "      <td>3.679754e+05</td>\n",
       "      <td>3.150606e+05</td>\n",
       "    </tr>\n",
       "    <tr>\n",
       "      <th>std</th>\n",
       "      <td>4.555286</td>\n",
       "      <td>4.440036</td>\n",
       "      <td>4.515397</td>\n",
       "      <td>4.404497</td>\n",
       "      <td>0.086843</td>\n",
       "      <td>0.082635</td>\n",
       "      <td>3.036857e+07</td>\n",
       "      <td>2.960024e+07</td>\n",
       "      <td>3.010265e+07</td>\n",
       "      <td>2.936332e+07</td>\n",
       "      <td>5.789535e+05</td>\n",
       "      <td>5.509005e+05</td>\n",
       "    </tr>\n",
       "    <tr>\n",
       "      <th>min</th>\n",
       "      <td>0.805035</td>\n",
       "      <td>0.795382</td>\n",
       "      <td>0.774250</td>\n",
       "      <td>0.765373</td>\n",
       "      <td>0.006591</td>\n",
       "      <td>0.002476</td>\n",
       "      <td>5.366898e+06</td>\n",
       "      <td>5.302548e+06</td>\n",
       "      <td>5.161665e+06</td>\n",
       "      <td>5.102488e+06</td>\n",
       "      <td>4.394000e+04</td>\n",
       "      <td>1.650500e+04</td>\n",
       "    </tr>\n",
       "    <tr>\n",
       "      <th>25%</th>\n",
       "      <td>5.431537</td>\n",
       "      <td>5.311542</td>\n",
       "      <td>5.386443</td>\n",
       "      <td>5.272271</td>\n",
       "      <td>0.022365</td>\n",
       "      <td>0.017638</td>\n",
       "      <td>3.621025e+07</td>\n",
       "      <td>3.541028e+07</td>\n",
       "      <td>3.590962e+07</td>\n",
       "      <td>3.514847e+07</td>\n",
       "      <td>1.490990e+05</td>\n",
       "      <td>1.175868e+05</td>\n",
       "    </tr>\n",
       "    <tr>\n",
       "      <th>50%</th>\n",
       "      <td>8.480339</td>\n",
       "      <td>8.270554</td>\n",
       "      <td>8.438704</td>\n",
       "      <td>8.239626</td>\n",
       "      <td>0.039512</td>\n",
       "      <td>0.031355</td>\n",
       "      <td>5.653560e+07</td>\n",
       "      <td>5.513703e+07</td>\n",
       "      <td>5.625803e+07</td>\n",
       "      <td>5.493084e+07</td>\n",
       "      <td>2.634130e+05</td>\n",
       "      <td>2.090315e+05</td>\n",
       "    </tr>\n",
       "    <tr>\n",
       "      <th>75%</th>\n",
       "      <td>11.689692</td>\n",
       "      <td>11.414266</td>\n",
       "      <td>11.644458</td>\n",
       "      <td>11.378603</td>\n",
       "      <td>0.059914</td>\n",
       "      <td>0.050696</td>\n",
       "      <td>7.793128e+07</td>\n",
       "      <td>7.609511e+07</td>\n",
       "      <td>7.762972e+07</td>\n",
       "      <td>7.585735e+07</td>\n",
       "      <td>3.994275e+05</td>\n",
       "      <td>3.379735e+05</td>\n",
       "    </tr>\n",
       "    <tr>\n",
       "      <th>max</th>\n",
       "      <td>26.255479</td>\n",
       "      <td>25.510253</td>\n",
       "      <td>26.157627</td>\n",
       "      <td>25.435732</td>\n",
       "      <td>1.259662</td>\n",
       "      <td>1.198051</td>\n",
       "      <td>1.750365e+08</td>\n",
       "      <td>1.700684e+08</td>\n",
       "      <td>1.743842e+08</td>\n",
       "      <td>1.695715e+08</td>\n",
       "      <td>8.397748e+06</td>\n",
       "      <td>7.987007e+06</td>\n",
       "    </tr>\n",
       "  </tbody>\n",
       "</table>\n",
       "</div>"
      ],
      "text/plain": [
       "          Gbp raw  Gbp raw (Q>=30)   Gbp clean  Gbp clean (Q>=30)    Gbp diff  \\\n",
       "count  310.000000       310.000000  310.000000         310.000000  310.000000   \n",
       "mean     8.935281         8.718980    8.880085           8.671721    0.055196   \n",
       "std      4.555286         4.440036    4.515397           4.404497    0.086843   \n",
       "min      0.805035         0.795382    0.774250           0.765373    0.006591   \n",
       "25%      5.431537         5.311542    5.386443           5.272271    0.022365   \n",
       "50%      8.480339         8.270554    8.438704           8.239626    0.039512   \n",
       "75%     11.689692        11.414266   11.644458          11.378603    0.059914   \n",
       "max     26.255479        25.510253   26.157627          25.435732    1.259662   \n",
       "\n",
       "       Gbp diff (Q>=30)     reads raw  reads raw (Q>=30)   reads clean  \\\n",
       "count        310.000000  3.100000e+02       3.100000e+02  3.100000e+02   \n",
       "mean           0.047259  5.956854e+07       5.812654e+07  5.920057e+07   \n",
       "std            0.082635  3.036857e+07       2.960024e+07  3.010265e+07   \n",
       "min            0.002476  5.366898e+06       5.302548e+06  5.161665e+06   \n",
       "25%            0.017638  3.621025e+07       3.541028e+07  3.590962e+07   \n",
       "50%            0.031355  5.653560e+07       5.513703e+07  5.625803e+07   \n",
       "75%            0.050696  7.793128e+07       7.609511e+07  7.762972e+07   \n",
       "max            1.198051  1.750365e+08       1.700684e+08  1.743842e+08   \n",
       "\n",
       "       reads clean (Q>=30)    reads diff  reads diff (Q>=30)  \n",
       "count         3.100000e+02  3.100000e+02        3.100000e+02  \n",
       "mean          5.781148e+07  3.679754e+05        3.150606e+05  \n",
       "std           2.936332e+07  5.789535e+05        5.509005e+05  \n",
       "min           5.102488e+06  4.394000e+04        1.650500e+04  \n",
       "25%           3.514847e+07  1.490990e+05        1.175868e+05  \n",
       "50%           5.493084e+07  2.634130e+05        2.090315e+05  \n",
       "75%           7.585735e+07  3.994275e+05        3.379735e+05  \n",
       "max           1.695715e+08  8.397748e+06        7.987007e+06  "
      ]
     },
     "execution_count": 19,
     "metadata": {},
     "output_type": "execute_result"
    }
   ],
   "source": [
    "qscore.describe()"
   ]
  },
  {
   "cell_type": "markdown",
   "metadata": {},
   "source": [
    "## Sample(s) not passing the minimum quality threshold"
   ]
  },
  {
   "cell_type": "code",
   "execution_count": 22,
   "metadata": {
    "scrolled": false
   },
   "outputs": [
    {
     "data": {
      "text/plain": [
       "10     15889\n",
       "31     15876\n",
       "46     15689\n",
       "65     15855\n",
       "112    15873\n",
       "123    15934\n",
       "165    15723\n",
       "175    15868\n",
       "176    15894\n",
       "178    15869\n",
       "219    15726\n",
       "269    15705\n",
       "302    15871\n",
       "Name: sample, dtype: object"
      ]
     },
     "execution_count": 22,
     "metadata": {},
     "output_type": "execute_result"
    }
   ],
   "source": [
    "qscore[qscore['clean (Q>=30)'] == False]['sample']"
   ]
  },
  {
   "cell_type": "markdown",
   "metadata": {},
   "source": [
    "---\n",
    "\n",
    "# Check \"Duplication\""
   ]
  },
  {
   "cell_type": "code",
   "execution_count": 41,
   "metadata": {},
   "outputs": [],
   "source": [
    "dups = {}\n",
    "\n",
    "for sample in os.listdir(folder):\n",
    "    if not sample.startswith(\"15\"):\n",
    "        continue\n",
    "\n",
    "    folder_sample = os.path.join(folder, sample)\n",
    "    \n",
    "    if (not os.path.isdir(folder_sample)) or (sample in ['.ipynb_checkpoints', '.empty', 'Stats', 'Reports']):\n",
    "        continue\n",
    "\n",
    "    dups[sample] = {'R1': 0, 'R2': 0, 'all': 0}\n",
    "\n",
    "    for lane in os.listdir(os.path.join(folder_sample, 'fastqc_raw')):\n",
    "        folder_sample_lane = os.path.join(folder_sample, 'fastqc_raw', lane)\n",
    "        Rs = 'R1' if 'R1' in lane else 'R2' if 'R2' in lane else 'XX'\n",
    "        \n",
    "        if not os.path.isdir(folder_sample_lane):\n",
    "            continue\n",
    "\n",
    "        with open(os.path.join(folder_sample_lane, 'fastqc_data.txt')) as f:\n",
    "            for r in f:\n",
    "                if r.startswith('#Total Deduplicated Percentage'):\n",
    "                    dups[sample][Rs] += 100. - float(r.strip().split('\\t')[1])\n",
    "                    dups[sample]['all'] += 100. - float(r.strip().split('\\t')[1])\n",
    "                    break\n",
    "\n",
    "    dups[sample]['all'] /= len([lane for lane in os.listdir(os.path.join(folder_sample, 'fastqc_raw')) if os.path.isdir(os.path.join(folder_sample, 'fastqc_raw', lane))])"
   ]
  },
  {
   "cell_type": "code",
   "execution_count": 43,
   "metadata": {},
   "outputs": [],
   "source": [
    "dups_df = pd.DataFrame.from_dict(dups).T"
   ]
  },
  {
   "cell_type": "code",
   "execution_count": 50,
   "metadata": {},
   "outputs": [
    {
     "data": {
      "text/html": [
       "<div>\n",
       "<style scoped>\n",
       "    .dataframe tbody tr th:only-of-type {\n",
       "        vertical-align: middle;\n",
       "    }\n",
       "\n",
       "    .dataframe tbody tr th {\n",
       "        vertical-align: top;\n",
       "    }\n",
       "\n",
       "    .dataframe thead th {\n",
       "        text-align: right;\n",
       "    }\n",
       "</style>\n",
       "<table border=\"1\" class=\"dataframe\">\n",
       "  <thead>\n",
       "    <tr style=\"text-align: right;\">\n",
       "      <th></th>\n",
       "      <th>all</th>\n",
       "    </tr>\n",
       "  </thead>\n",
       "  <tbody>\n",
       "    <tr>\n",
       "      <th>count</th>\n",
       "      <td>282.000000</td>\n",
       "    </tr>\n",
       "    <tr>\n",
       "      <th>mean</th>\n",
       "      <td>17.117959</td>\n",
       "    </tr>\n",
       "    <tr>\n",
       "      <th>std</th>\n",
       "      <td>9.540601</td>\n",
       "    </tr>\n",
       "    <tr>\n",
       "      <th>min</th>\n",
       "      <td>3.128253</td>\n",
       "    </tr>\n",
       "    <tr>\n",
       "      <th>25%</th>\n",
       "      <td>9.784817</td>\n",
       "    </tr>\n",
       "    <tr>\n",
       "      <th>50%</th>\n",
       "      <td>14.801356</td>\n",
       "    </tr>\n",
       "    <tr>\n",
       "      <th>75%</th>\n",
       "      <td>22.691174</td>\n",
       "    </tr>\n",
       "    <tr>\n",
       "      <th>max</th>\n",
       "      <td>66.969859</td>\n",
       "    </tr>\n",
       "  </tbody>\n",
       "</table>\n",
       "</div>"
      ],
      "text/plain": [
       "              all\n",
       "count  282.000000\n",
       "mean    17.117959\n",
       "std      9.540601\n",
       "min      3.128253\n",
       "25%      9.784817\n",
       "50%     14.801356\n",
       "75%     22.691174\n",
       "max     66.969859"
      ]
     },
     "execution_count": 50,
     "metadata": {},
     "output_type": "execute_result"
    }
   ],
   "source": [
    "dups_df[['all']].describe()"
   ]
  },
  {
   "cell_type": "code",
   "execution_count": 49,
   "metadata": {},
   "outputs": [
    {
     "data": {
      "text/html": [
       "<div>\n",
       "<style scoped>\n",
       "    .dataframe tbody tr th:only-of-type {\n",
       "        vertical-align: middle;\n",
       "    }\n",
       "\n",
       "    .dataframe tbody tr th {\n",
       "        vertical-align: top;\n",
       "    }\n",
       "\n",
       "    .dataframe thead th {\n",
       "        text-align: right;\n",
       "    }\n",
       "</style>\n",
       "<table border=\"1\" class=\"dataframe\">\n",
       "  <thead>\n",
       "    <tr style=\"text-align: right;\">\n",
       "      <th></th>\n",
       "      <th>all</th>\n",
       "    </tr>\n",
       "  </thead>\n",
       "  <tbody>\n",
       "    <tr>\n",
       "      <th>80051_31</th>\n",
       "      <td>43.753384</td>\n",
       "    </tr>\n",
       "    <tr>\n",
       "      <th>83581_31</th>\n",
       "      <td>45.552779</td>\n",
       "    </tr>\n",
       "    <tr>\n",
       "      <th>83582_31</th>\n",
       "      <td>48.237725</td>\n",
       "    </tr>\n",
       "    <tr>\n",
       "      <th>83583_31</th>\n",
       "      <td>52.487036</td>\n",
       "    </tr>\n",
       "    <tr>\n",
       "      <th>80190_31</th>\n",
       "      <td>47.971683</td>\n",
       "    </tr>\n",
       "    <tr>\n",
       "      <th>80118_31</th>\n",
       "      <td>66.969859</td>\n",
       "    </tr>\n",
       "  </tbody>\n",
       "</table>\n",
       "</div>"
      ],
      "text/plain": [
       "                all\n",
       "80051_31  43.753384\n",
       "83581_31  45.552779\n",
       "83582_31  48.237725\n",
       "83583_31  52.487036\n",
       "80190_31  47.971683\n",
       "80118_31  66.969859"
      ]
     },
     "execution_count": 49,
     "metadata": {},
     "output_type": "execute_result"
    }
   ],
   "source": [
    "dups_df[dups_df['all'] > 40][['all']]"
   ]
  },
  {
   "cell_type": "markdown",
   "metadata": {},
   "source": [
    "# 13th run ONCOBIOME read stats"
   ]
  },
  {
   "cell_type": "code",
   "execution_count": 75,
   "metadata": {},
   "outputs": [],
   "source": [
    "onco = {'BLADDER' : [], 'IGR' : [], 'MM' : [], 'ORL' : [], 'Pr' : [], 'SK' : [], 'UM' : []}\n",
    "\n",
    "for prj in onco.keys():\n",
    "    for sample in os.listdir('200917_A01083_0034_AHYNCGDSXX/'):\n",
    "        if prj not in sample:\n",
    "            continue\n",
    "\n",
    "        read_stats = [f for f in os.listdir('200917_A01083_0034_AHYNCGDSXX/' + sample) if f.endswith('_summary.stats')][0]\n",
    "\n",
    "        with open('200917_A01083_0034_AHYNCGDSXX/{}/{}'.format(sample, read_stats)) as f:\n",
    "            onco[prj].append(int(f.readlines()[-1].split('\\t')[2]))"
   ]
  },
  {
   "cell_type": "code",
   "execution_count": 78,
   "metadata": {},
   "outputs": [
    {
     "name": "stdout",
     "output_type": "stream",
     "text": [
      "BLADDER 3057144043 87346972.65714286\n",
      "IGR 5711107763 80438137.50704226\n",
      "MM 2112776799 31070247.04411765\n",
      "ORL 1248126022 73419177.76470588\n",
      "Pr 5108999039 83754082.60655738\n",
      "SK 3016680164 86190861.82857142\n",
      "UM 48374742 16124914.0\n"
     ]
    }
   ],
   "source": [
    "for prj, reads in onco.items():\n",
    "    print(prj, sum(reads), np.mean(reads))"
   ]
  },
  {
   "cell_type": "markdown",
   "metadata": {},
   "source": [
    "# CM_CELIACHIA (NCGS, CDIS, CNTR) read stats (13th run)"
   ]
  },
  {
   "cell_type": "code",
   "execution_count": 93,
   "metadata": {
    "scrolled": true
   },
   "outputs": [],
   "source": [
    "celiachia_prefixes = ['NCGS', 'CDIS', 'CNTR']\n",
    "celiachia_reads = []\n",
    "fld = '/shares/CIBIO-Storage/CM/scratch/data/meta/CM_CELIACHIA/reads/'\n",
    "\n",
    "for sample in os.listdir(fld):\n",
    "    if len([i for i in celiachia_prefixes if i in sample]) == 0:\n",
    "        continue\n",
    "\n",
    "    read_stats = [f for f in os.listdir(fld + sample) if f.endswith('_summary.stats')][0]\n",
    "\n",
    "    with open(fld + '{}/{}'.format(sample, read_stats)) as f:\n",
    "        celiachia_reads.append(int(f.readlines()[-1].split('\\t')[2]))"
   ]
  },
  {
   "cell_type": "code",
   "execution_count": 94,
   "metadata": {},
   "outputs": [
    {
     "data": {
      "text/plain": [
       "(53, 1545506894, 29160507.433962263)"
      ]
     },
     "execution_count": 94,
     "metadata": {},
     "output_type": "execute_result"
    }
   ],
   "source": [
    "len(celiachia_reads), sum(celiachia_reads), np.mean(celiachia_reads)"
   ]
  },
  {
   "cell_type": "markdown",
   "metadata": {},
   "source": [
    "# 22nd run adapters contamination problem"
   ]
  },
  {
   "cell_type": "code",
   "execution_count": 63,
   "metadata": {
    "scrolled": true
   },
   "outputs": [],
   "source": [
    "folder = '210723_A01083_0072_AHN3C5DSXY'  # 22nd run\n",
    "adapters_22nd = {}\n",
    "\n",
    "for sample in os.listdir(folder):\n",
    "    folder_sample = os.path.join(folder, sample)\n",
    "\n",
    "    if (not os.path.isdir(folder_sample)) or (sample in ['.ipynb_checkpoints', '.empty', 'Stats', 'Reports']):\n",
    "        continue\n",
    "\n",
    "    if not os.path.isdir(os.path.join(folder_sample, 'fastqc_clean')):\n",
    "        continue\n",
    "\n",
    "    adapters_22nd[sample] = 0.0\n",
    "    n = 0\n",
    "\n",
    "    for lane in os.listdir(os.path.join(folder_sample, 'fastqc_clean')):\n",
    "        folder_sample_lane = os.path.join(folder_sample, 'fastqc_clean', lane)\n",
    "\n",
    "        if not os.path.isdir(folder_sample_lane):\n",
    "            continue\n",
    "\n",
    "        save = False\n",
    "        tmp_list = []\n",
    "\n",
    "        with open(os.path.join(folder_sample_lane, 'fastqc_data.txt')) as f:\n",
    "            for r in f:\n",
    "                if r.startswith('>>Adapter Content'):\n",
    "                    save = True\n",
    "                    continue\n",
    "\n",
    "                if save and r.startswith('>>END_MODULE'):\n",
    "                    save = False\n",
    "                    break\n",
    "\n",
    "                if save:\n",
    "                    tmp_list.append(r.strip().split('\\t'))\n",
    "\n",
    "        try:\n",
    "            adapters_22nd[sample] += sum(map(float, tmp_list[-1][1:]))\n",
    "        except:\n",
    "            adapters_22nd[sample] += 1000  # there are no values in the FastQC report\n",
    "\n",
    "        n += 1\n",
    "\n",
    "    adapters_22nd[sample] /= n"
   ]
  },
  {
   "cell_type": "code",
   "execution_count": 64,
   "metadata": {},
   "outputs": [
    {
     "data": {
      "text/plain": [
       "355"
      ]
     },
     "execution_count": 64,
     "metadata": {},
     "output_type": "execute_result"
    }
   ],
   "source": [
    "len(adapters_22nd)"
   ]
  },
  {
   "cell_type": "code",
   "execution_count": 65,
   "metadata": {},
   "outputs": [
    {
     "data": {
      "text/plain": [
       "[('BP29030', 1000.0),\n",
       " ('ONCOCBC_TF-1361-3_STO-001', 0.01378371128190367),\n",
       " ('ONCOCBC_TF-2306-7_STO-001', 0.011435705585839083),\n",
       " ('ONCOCBC_TF-1176-9_STO-001', 0.009434046408823697),\n",
       " ('TEAG-WP4-TGS04-SNF', 0.008650616411142153),\n",
       " ('TEAG-WP4-TGS06-1', 0.008437612422198267),\n",
       " ('ONCOCBC_TF-1653-3_STO-001', 0.008201090003385229),\n",
       " ('TEAG-WP4-TGS06-10', 0.008166360091530454),\n",
       " ('TEAG-WP4-TGS08-6', 0.007980372925013413),\n",
       " ('ONCOCBC_TF-2633-5_STO-001', 0.007789539845908094)]"
      ]
     },
     "execution_count": 65,
     "metadata": {},
     "output_type": "execute_result"
    }
   ],
   "source": [
    "# 10 samples with highest % of adapters\n",
    "sorted(adapters_22nd.items(), key=lambda x: x[1], reverse=True)[:10]"
   ]
  },
  {
   "cell_type": "code",
   "execution_count": null,
   "metadata": {},
   "outputs": [],
   "source": []
  }
 ],
 "metadata": {
  "kernelspec": {
   "display_name": "Python 3 (ipykernel)",
   "language": "python",
   "name": "python3"
  },
  "language_info": {
   "codemirror_mode": {
    "name": "ipython",
    "version": 3
   },
   "file_extension": ".py",
   "mimetype": "text/x-python",
   "name": "python",
   "nbconvert_exporter": "python",
   "pygments_lexer": "ipython3",
   "version": "3.9.7"
  },
  "toc": {
   "base_numbering": 1,
   "nav_menu": {},
   "number_sections": true,
   "sideBar": true,
   "skip_h1_title": false,
   "title_cell": "Table of Contents",
   "title_sidebar": "Contents",
   "toc_cell": false,
   "toc_position": {
    "height": "calc(100% - 180px)",
    "left": "10px",
    "top": "150px",
    "width": "340.797px"
   },
   "toc_section_display": true,
   "toc_window_display": false
  }
 },
 "nbformat": 4,
 "nbformat_minor": 4
}
