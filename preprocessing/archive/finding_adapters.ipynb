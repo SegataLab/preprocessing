{
 "cells": [
  {
   "cell_type": "code",
   "execution_count": 4,
   "metadata": {},
   "outputs": [],
   "source": [
    "import gzip\n",
    "from Bio import pairwise2\n",
    "from Bio.SeqIO.QualityIO import FastqGeneralIterator"
   ]
  },
  {
   "cell_type": "code",
   "execution_count": 5,
   "metadata": {},
   "outputs": [],
   "source": [
    "path = '/shares/CIBIO-Storage/CM/scratch/preprocessing/test_adapters/210723_A01083_0072_AHN3C5DSXY/BP01001'\n",
    "adapter = 'CTGTCTCTTATA'"
   ]
  },
  {
   "cell_type": "code",
   "execution_count": null,
   "metadata": {
    "scrolled": true
   },
   "outputs": [],
   "source": [
    "help(pairwise2.align)\n",
    "help(pairwise2)\n",
    "help(pairwise2.align.localms)"
   ]
  },
  {
   "cell_type": "code",
   "execution_count": null,
   "metadata": {
    "scrolled": true
   },
   "outputs": [],
   "source": [
    "with gzip.open('{}/BP01001_S1_L001_R1_001.fastq.gz'.format(path), 'rt') as in_handle:\n",
    "    for title, seq, qual in FastqGeneralIterator(in_handle):\n",
    "        alns = False\n",
    "\n",
    "        for i in pairwise2.align.localms(seq, adapter, 0, -1, -2, -1):\n",
    "            if not alns:\n",
    "                print(title, end='\\n\\n')\n",
    "\n",
    "            print(i.seqA)\n",
    "            print(i.seqB)\n",
    "            print('score={}, start={}, end={}'.format(i.score, i.start, i.end), end='\\n\\n')\n",
    "\n",
    "            alns = True\n",
    "\n",
    "        if alns:\n",
    "            break"
   ]
  },
  {
   "cell_type": "code",
   "execution_count": 56,
   "metadata": {},
   "outputs": [],
   "source": [
    "reads_with_adapter = set([title \n",
    "                          for title, seq, qual in FastqGeneralIterator(gzip.open('{}/BP01001_S1_L001_R1_001.fastq.gz'.format(path), 'rt')) \n",
    "                          if adapter in seq])"
   ]
  },
  {
   "cell_type": "code",
   "execution_count": 67,
   "metadata": {},
   "outputs": [
    {
     "name": "stdout",
     "output_type": "stream",
     "text": [
      "A01083:72:HN3C5DSXY:1:1364:4652:7701 1:N:0:GAACTGAGCG+CGCTCCACGA\n",
      "[Alignment(seqA='GGGTAAGTATAATTGTGCCTGTGATAGTACCCTAAAGATAAATGAACTGTACTACCTGTCTCTTATACACATCTCCGAGCCCACGACTGTCTCTTATACACATCTCCGAGCCCACGCTGTCTCTTATACACATCTCCGAGCCCACGAGACG', seqB='--------------------------------------------------------------------------------------------------------------------CTGTCTCTTATA-----------------------', score=12.0, start=116, end=128), Alignment(seqA='GGGTAAGTATAATTGTGCCTGTGATAGTACCCTAAAGATAAATGAACTGTACTACCTGTCTCTTATACACATCTCCGAGCCCACGACTGTCTCTTATACACATCTCCGAGCCCACGCTGTCTCTTATACACATCTCCGAGCCCACGAGACG', seqB='--------------------------------------------------------------------------------------CTGTCTCTTATA-----------------------------------------------------', score=12.0, start=86, end=98), Alignment(seqA='GGGTAAGTATAATTGTGCCTGTGATAGTACCCTAAAGATAAATGAACTGTACTACCTGTCTCTTATACACATCTCCGAGCCCACGACTGTCTCTTATACACATCTCCGAGCCCACGCTGTCTCTTATACACATCTCCGAGCCCACGAGACG', seqB='-------------------------------------------------------CTGTCTCTTATA------------------------------------------------------------------------------------', score=12.0, start=55, end=67)]\n",
      "A01083:72:HN3C5DSXY:1:2366:1877:14920 1:N:0:GAACTGAGCG+CGCTCCACGA\n",
      "[Alignment(seqA='AAATAATATATAAGTTTCCGGAGAATTTATCTTATATGTTTAGCTTCGATAAATATGCTTTGCTCGCTGACTTTTACAGCTGTCTCTTATACACATCTCCGAGCCCACGCTGTCTCTTATACACATCTCCGAGCCCACGCTGTCTCTTATA', seqB='-------------------------------------------------------------------------------------------------------------------------------------------CTGTCTCTTATA', score=12.0, start=139, end=151), Alignment(seqA='AAATAATATATAAGTTTCCGGAGAATTTATCTTATATGTTTAGCTTCGATAAATATGCTTTGCTCGCTGACTTTTACAGCTGTCTCTTATACACATCTCCGAGCCCACGCTGTCTCTTATACACATCTCCGAGCCCACGCTGTCTCTTATA', seqB='-------------------------------------------------------------------------------------------------------------CTGTCTCTTATA------------------------------', score=12.0, start=109, end=121), Alignment(seqA='AAATAATATATAAGTTTCCGGAGAATTTATCTTATATGTTTAGCTTCGATAAATATGCTTTGCTCGCTGACTTTTACAGCTGTCTCTTATACACATCTCCGAGCCCACGCTGTCTCTTATACACATCTCCGAGCCCACGCTGTCTCTTATA', seqB='-------------------------------------------------------------------------------CTGTCTCTTATA------------------------------------------------------------', score=12.0, start=79, end=91)]\n"
     ]
    }
   ],
   "source": [
    "alns = []\n",
    "\n",
    "with gzip.open('{}/BP01001_S1_L001_R1_001.fastq.gz'.format(path), 'rt') as in_handle:\n",
    "    for title, seq, qual in FastqGeneralIterator(in_handle):\n",
    "        if title in reads_with_adapter:\n",
    "            if len(pairwise2.align.localms(seq, adapter, 1, -1, -2, -1)) == 3:\n",
    "                print(title)\n",
    "                print(pairwise2.align.localms(seq, adapter, 1, -1, -2, -1))"
   ]
  },
  {
   "cell_type": "code",
   "execution_count": 65,
   "metadata": {},
   "outputs": [
    {
     "data": {
      "text/plain": [
       "2396"
      ]
     },
     "execution_count": 65,
     "metadata": {},
     "output_type": "execute_result"
    }
   ],
   "source": [
    "set(alns)\n",
    "alns.count(2)"
   ]
  },
  {
   "cell_type": "code",
   "execution_count": null,
   "metadata": {},
   "outputs": [],
   "source": []
  }
 ],
 "metadata": {
  "kernelspec": {
   "display_name": "Python 3",
   "language": "python",
   "name": "python3"
  },
  "language_info": {
   "codemirror_mode": {
    "name": "ipython",
    "version": 3
   },
   "file_extension": ".py",
   "mimetype": "text/x-python",
   "name": "python",
   "nbconvert_exporter": "python",
   "pygments_lexer": "ipython3",
   "version": "3.6.7"
  },
  "toc": {
   "base_numbering": 1,
   "nav_menu": {},
   "number_sections": true,
   "sideBar": true,
   "skip_h1_title": false,
   "title_cell": "Table of Contents",
   "title_sidebar": "Contents",
   "toc_cell": false,
   "toc_position": {},
   "toc_section_display": true,
   "toc_window_display": false
  }
 },
 "nbformat": 4,
 "nbformat_minor": 2
}
